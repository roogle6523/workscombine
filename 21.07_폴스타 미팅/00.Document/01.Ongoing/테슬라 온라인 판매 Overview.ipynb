{
 "cells": [
  {
   "cell_type": "markdown",
   "id": "b9de2406",
   "metadata": {},
   "source": [
    "<img src=\"https://img.jobkorea.co.kr/trans/c/200x80/w/o/JK_Co_workscomb.png\"\n",
    " style=\"float: left;\" width=\"250;\"> \n",
    " ## &nbsp; &nbsp; &nbsp; &nbsp; **예측을 일상화하다.**"
   ]
  },
  {
   "cell_type": "markdown",
   "id": "48726c58",
   "metadata": {},
   "source": [
    "# 테슬라 D2C 판매 Overview\n",
    "---"
   ]
  },
  {
   "cell_type": "markdown",
   "id": "79292643",
   "metadata": {},
   "source": [
    "## D2C 판매 배경\n",
    "\n",
    "### D2C 판매 도입\n",
    "- <span style=\"font-size:13pt;\" /> 2013년 최초로 D2C 판매 추진"
   ]
  },
  {
   "cell_type": "markdown",
   "id": "82c2398f",
   "metadata": {},
   "source": [
    "<img src=\"./image/온라인판매_시작.PNG\"\n",
    " style=\"float: left;\"><br>"
   ]
  },
  {
   "cell_type": "markdown",
   "id": "f3145823",
   "metadata": {},
   "source": [
    "- <span style=\"font-size:13pt;\" /> 2019년 100% D2C 판매 전환"
   ]
  },
  {
   "cell_type": "markdown",
   "id": "188df85c",
   "metadata": {},
   "source": [
    " <img src=\"./image/테슬라영업방식1-2.PNG\"\n",
    "style=\"float: left;\"><br>"
   ]
  },
  {
   "cell_type": "markdown",
   "id": "6b18d45a",
   "metadata": {},
   "source": [
    "### D2C선택 이유\n",
    "- <span style=\"font-size:13pt;\" /> 유통구조 최소화"
   ]
  },
  {
   "cell_type": "markdown",
   "id": "fc3dbd4c",
   "metadata": {},
   "source": [
    " <img src=\"./image/D2C유통구조.PNG\"\n",
    "style=\"float:\" width=\"500;\"><br>"
   ]
  },
  {
   "cell_type": "markdown",
   "id": "9a0f68a5",
   "metadata": {},
   "source": [
    "- <span style=\"font-size:13pt;\" /> 가격경쟁력 확보"
   ]
  },
  {
   "cell_type": "markdown",
   "id": "4b816aad",
   "metadata": {},
   "source": [
    "- <span style=\"font-size:13pt;\" /> 데이터 수집<br>\n",
    "<br>\n",
    "<br>"
   ]
  },
  {
   "cell_type": "markdown",
   "id": "4edfaedc",
   "metadata": {},
   "source": [
    " <img src=\"./image/테슬라_데이터수집.PNG\"\n",
    "style=\"float:\" width=\"650;\"><br>"
   ]
  },
  {
   "cell_type": "markdown",
   "id": "554f961f",
   "metadata": {},
   "source": [
    "### D2C판매 성공 요인\n",
    "- <span style=\"font-size:13pt;\" /> 시대의 트렌드 인지\n",
    "- <span style=\"font-size:13pt;\" /> 가격대비 좋은 품질\n",
    "- <span style=\"font-size:13pt;\" /> 일론머스크의 대중적 인지도\n",
    "- <span style=\"font-size:13pt;\" /> SNS를 통한 커뮤니케이션 영향력"
   ]
  },
  {
   "cell_type": "markdown",
   "id": "6f25eeaa",
   "metadata": {},
   "source": [
    "### D2C판매 해외사례\n",
    "- <span style=\"font-size:13pt;\" /> 달러 쉐이브 클럽"
   ]
  },
  {
   "cell_type": "markdown",
   "id": "0cd48629",
   "metadata": {},
   "source": [
    " <img src=\"./image/D2C_해외사례.PNG\"\n",
    "style=\"float:\" width=\"800;\"><br>"
   ]
  },
  {
   "cell_type": "markdown",
   "id": "d02f2fb8",
   "metadata": {},
   "source": [
    "달러 쉐이브 클럽이 등장하기 이전 질레트의 시장점유율은 71%에 달했다.<br>\n",
    "브랜드 이미지를 위해 최고의 스포츠스타들을 광고모델로 기용하여 1년에 6000만 달러(약 711억원)의 돈을 사용했고, 그 비용은 그대로 소비자에게 돌아가 제품의 가격이 상승했다.<br>\n",
    "\n",
    "달러 쉐이브 클럽은 제작비용 4500달러(약 530만원)짜리 오너가 직접 출연한 동영상 광고 하나를 유튜브에 올렸을 뿐, 유명모델을 사용하지않았다.<br>\n",
    "또한 가격이 높아지는 것을 방지하기 위해 온라인판매만 고집했고\n",
    "\n",
    "\"유명 브랜드의 면도기에 한 달에 수십 달러씩 쓰시나요? 진동 핸들, 10중 날…정말로 필요한가요? 쓸데없는 기능에 돈 쓰지 마세요. 1달러면 면도날을 살 수 있습니다\" 내용의 광고는 엄청난 이슈를 불러왔고, 면기도 시장 점유율 일부를 차지할 수 있었다.\n",
    "\n",
    "질레트는 시장점유율을 15% 이상이나 뺏기고 나서야 면도날 배송 서비스 '질레트 쉐이브 클럽'을 시작했다."
   ]
  },
  {
   "cell_type": "markdown",
   "id": "7be8b4b3",
   "metadata": {},
   "source": [
    "### D2C판매 국내사례"
   ]
  },
  {
   "cell_type": "markdown",
   "id": "7707611a",
   "metadata": {},
   "source": [
    "- <span style=\"font-size:13pt;\" /> CJ더마켓"
   ]
  },
  {
   "cell_type": "markdown",
   "id": "e2f3c415",
   "metadata": {},
   "source": [
    " <img src=\"./image/D2C_국내사례.PNG\"\n",
    "style=\"float:\" width=\"800;\"><br>"
   ]
  },
  {
   "cell_type": "markdown",
   "id": "2b4d51f5",
   "metadata": {},
   "source": [
    "## D2C전환이후 강해진 소비자 경쟁력"
   ]
  },
  {
   "cell_type": "markdown",
   "id": "d2523e3b",
   "metadata": {},
   "source": [
    " <img src=\"./image/테슬라_자동차판매.PNG\"\n",
    "style=\"float:\" width=\"800;\"><br>"
   ]
  },
  {
   "cell_type": "markdown",
   "id": "9c09ca2f",
   "metadata": {},
   "source": [
    "## 테슬라의 판매추이와 연도별 판매예상"
   ]
  },
  {
   "cell_type": "markdown",
   "id": "1b47b323",
   "metadata": {},
   "source": [
    "- <span style=\"font-size:13pt;\" /> 20년 ~ 21년 1분기 생산량과 납품량"
   ]
  },
  {
   "cell_type": "markdown",
   "id": "311eb9b7",
   "metadata": {},
   "source": [
    " <img src=\"./image/테슬라_생산과배달.PNG\"\n",
    "style=\"float:\" width=\"1000;\"><br>"
   ]
  },
  {
   "cell_type": "markdown",
   "id": "f832b9e0",
   "metadata": {},
   "source": [
    "- <span style=\"font-size:13pt;\" /> Q1-2021 테슬라 컨퍼런스콜에서 예측한 예상판매 수(75만대)"
   ]
  },
  {
   "cell_type": "markdown",
   "id": "167d6510",
   "metadata": {},
   "source": [
    " <img src=\"./image/테슬라_예상판매.PNG\"\n",
    "style=\"float:\" width=\"650;\"><br>"
   ]
  },
  {
   "cell_type": "markdown",
   "id": "ca28fc53",
   "metadata": {},
   "source": [
    "## 테슬라 문제점"
   ]
  },
  {
   "cell_type": "markdown",
   "id": "daaad9e1",
   "metadata": {},
   "source": [
    "- <span style=\"font-size:13pt;\" /> 판매수는 109% 증가, 서비스는 30% 미만 증가"
   ]
  },
  {
   "cell_type": "markdown",
   "id": "f1cc039e",
   "metadata": {},
   "source": [
    " <img src=\"./image/테슬라_서비스센터.PNG\"\n",
    "style=\"float:\" width=\"1000;\"><br>"
   ]
  },
  {
   "cell_type": "markdown",
   "id": "1e510732",
   "metadata": {},
   "source": [
    "- <span style=\"font-size:13pt;\" /> 높은 보조금 의존도"
   ]
  },
  {
   "cell_type": "markdown",
   "id": "d306f261",
   "metadata": {},
   "source": [
    " <img src=\"./image/테슬라_미국보조금문제.png\"\n",
    "style=\"float:\" width=\"800;\"><br>"
   ]
  },
  {
   "cell_type": "markdown",
   "id": "a98d54e4",
   "metadata": {},
   "source": [
    "- <span style=\"font-size:13pt;\" /> 국내전기차 보조금 감소"
   ]
  },
  {
   "cell_type": "markdown",
   "id": "d3a067fb",
   "metadata": {},
   "source": [
    " <img src=\"./image/테슬라_한국보조금비교.png\"\n",
    "style=\"float:\" width=\"1000;\"><br>"
   ]
  },
  {
   "cell_type": "markdown",
   "id": "40fc0a5d",
   "metadata": {},
   "source": [
    "- <span style=\"font-size:13pt;\" /> 차량 반도체부족"
   ]
  },
  {
   "cell_type": "markdown",
   "id": "a0dec8b8",
   "metadata": {},
   "source": [
    " <img src=\"./image/테슬라_반도체부족.PNG\"\n",
    " style=\"float: left;\"><br>"
   ]
  },
  {
   "cell_type": "code",
   "execution_count": null,
   "id": "392a0178",
   "metadata": {},
   "outputs": [],
   "source": [
    "WorksCombine Inc. 데이터연구소 2021.07"
   ]
  }
 ],
 "metadata": {
  "kernelspec": {
   "display_name": "Python 3",
   "language": "python",
   "name": "python3"
  },
  "language_info": {
   "codemirror_mode": {
    "name": "ipython",
    "version": 3
   },
   "file_extension": ".py",
   "mimetype": "text/x-python",
   "name": "python",
   "nbconvert_exporter": "python",
   "pygments_lexer": "ipython3",
   "version": "3.8.8"
  }
 },
 "nbformat": 4,
 "nbformat_minor": 5
}
